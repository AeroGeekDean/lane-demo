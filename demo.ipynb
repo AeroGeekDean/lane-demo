{
 "cells": [
  {
   "cell_type": "markdown",
   "metadata": {},
   "source": [
    "# Lane-Finding Demo\n",
    "## Udacity Self-Driving Car Engineer Nanodegree Program\n",
    "\n",
    "In this demo, you'll use OpenCV to find lane lines on the road.\n",
    "\n",
    "Automotive engineers use a number of tools to find lane lines, including computer vision tools like this, but also neural networks, sensor fusion, and maps.\n",
    "\n",
    "If you enjoy this demo, sign up for the [Udacity Self-Driving Car Engineer Nanodegree Program](http://udacity.com/drive) to learn more!"
   ]
  },
  {
   "cell_type": "markdown",
   "metadata": {},
   "source": [
    "### Getting Started\n",
    "This is a [Jupyter notebook](http://jupyter.org/). It's made up of cells: either Markdown (text) cells like this one, or Code (Python) cells like the one below.\n",
    "\n",
    "You can edit either the Markdown or the Code cells, and then press `Shift` + `Return` to run them.\n",
    "\n",
    "Let's get started!"
   ]
  },
  {
   "cell_type": "code",
   "execution_count": null,
   "metadata": {
    "collapsed": false
   },
   "outputs": [],
   "source": [
    "# Python 3\n",
    "%matplotlib inline\n",
    "import matplotlib.image as mpimg\n",
    "from matplotlib import pyplot as plt\n",
    "\n",
    "image = mpimg.imread('road.jpg')\n",
    "plt.imshow(image)"
   ]
  },
  {
   "cell_type": "markdown",
   "metadata": {},
   "source": [
    "If you were able to run the code above and display an image, then congratulations! You have successfully installed [matplotlib](http://matplotlib.org/).\n",
    "\n",
    "If you were not able to run the code and display the image, check the [setup instructions](https://github.com/dsilver829/lane-demo) and see if you might need to reinstall a dependency.\n",
    "\n",
    "You should see an image of a stretch of highway."
   ]
  },
  {
   "cell_type": "code",
   "execution_count": null,
   "metadata": {
    "collapsed": false
   },
   "outputs": [],
   "source": [
    "print(image.shape)"
   ]
  },
  {
   "cell_type": "markdown",
   "metadata": {},
   "source": [
    "The output tells you that the shape of image is 540 pixels (height) by 960 pixels (width) by 3 pixels (depth). The depth dimension is 3 because the image has three \"color channels\": blue, green, and red."
   ]
  },
  {
   "cell_type": "code",
   "execution_count": null,
   "metadata": {
    "collapsed": false
   },
   "outputs": [],
   "source": [
    "import cv2\n",
    "\n",
    "b,g,r = cv2.split(image)\n",
    "merged_image = cv2.merge((b,g,r))\n",
    "plt.imshow(merged_image)"
   ]
  },
  {
   "cell_type": "markdown",
   "metadata": {},
   "source": [
    "If you were able to run the code above and display the same image, then congratulations! You have successfully installed [OpenCV](http://opencv.org/).\n",
    "\n",
    "If you were not able to run the code and display the image, check the [setup instructions](https://github.com/dsilver829/lane-demo) and see if you might need to reinstall a dependency.\n",
    "\n",
    "OpenCV is a computer vision library that provides many tools for manipulating images. The code you just ran split the image into its three color channels, and then re-combined the channels to create a clone of the original image."
   ]
  },
  {
   "cell_type": "code",
   "execution_count": null,
   "metadata": {
    "collapsed": false
   },
   "outputs": [],
   "source": [
    "import numpy as np\n",
    "\n",
    "copied_image = np.copy(image)\n",
    "plt.imshow(merged_image)"
   ]
  },
  {
   "cell_type": "markdown",
   "metadata": {},
   "source": [
    "If you were able to run the code above and display the same imageagain, then congratulations! You have successfully installed [NumPy](http://www.numpy.org/).\n",
    "\n",
    "If you were not able to run the code and display the image, check the [setup instructions](https://github.com/dsilver829/lane-demo) and see if you might need to reinstall a dependency.\n",
    "\n",
    "NumPy is a numerical library for Python. In particular, NumPy has terrific support for matrices. At a fundamental level, images are just 3-dimensional matrices. Each element in the matrix is a pixel value."
   ]
  },
  {
   "cell_type": "markdown",
   "metadata": {},
   "source": [
    "### Canny Edge Detection\n",
    "Now that you've used matplotlib to read the image, and you've used OpenCV to manipulate the image, let's start to transform the image.\n",
    "\n",
    "An algorithm called Canny edge detection can help us identify \"edges\" in the image, or places where the image changes color sharply. These edges can help us find the lane lines.\n",
    "\n",
    "OpenCV has a [nice explanation](http://docs.opencv.org/trunk/da/d22/tutorial_py_canny.html) of how the Canny edge detection algorithm works, but for our purposes here, we just need to know how to use the `Canny()` method that OpenCV provides.\n",
    "\n",
    "Read the documentation for [\"Canny Edge Detection in OpenCV\"](http://docs.opencv.org/3.0-beta/doc/py_tutorials/py_imgproc/py_canny/py_canny.html#canny-edge-detection-in-opencv). Then run that function on the image and display the output."
   ]
  },
  {
   "cell_type": "code",
   "execution_count": null,
   "metadata": {
    "collapsed": false
   },
   "outputs": [],
   "source": []
  },
  {
   "cell_type": "markdown",
   "metadata": {},
   "source": [
    "### Hough Transforms\n",
    "An algorithm called a Hough transform can help us turn the edges into lines. A Hough transform identifies lines by taking a set of points - which is what we got from Canny edge detection - and seeing which lines pass through the most points.\n",
    "\n",
    "OpenCV has a [nice explanation](http://docs.opencv.org/3.0-beta/doc/py_tutorials/py_imgproc/py_houghlines/py_houghlines.html) of the mathematics behind Hough Transforms. As before, though, here we really only need to understand how to use the `HoughLines()` method that OpenCV provides.\n",
    "\n",
    "Read the documentation for [\"Hough Transform in OpenCV\"](http://docs.opencv.org/3.0-beta/doc/py_tutorials/py_imgproc/py_houghlines/py_houghlines.html#hough-tranform-in-opencv). Then run that method on the image, write the lines onto the image, and display the output."
   ]
  },
  {
   "cell_type": "code",
   "execution_count": null,
   "metadata": {
    "collapsed": false
   },
   "outputs": [],
   "source": []
  },
  {
   "cell_type": "markdown",
   "metadata": {},
   "source": [
    "### Congratulations!\n",
    "\n",
    "You've found lane lines! Nice work!\n",
    "\n",
    "This is just the tip of the iceberg, of course. Finding lane lines becomes harder in bad weather, or in shadows, or on curvy roads. And we haven't even touched deep learning, which is a great and different approach for solving problems like these.\n",
    "\n",
    "If you're interested in these topics and more, please checkout the [Udacity Self-Driving Car Engineer Nanodegree Program](https://udacity.com/drive)!"
   ]
  }
 ],
 "metadata": {
  "anaconda-cloud": {},
  "kernelspec": {
   "display_name": "Python [Root]",
   "language": "python",
   "name": "Python [Root]"
  },
  "language_info": {
   "codemirror_mode": {
    "name": "ipython",
    "version": 3
   },
   "file_extension": ".py",
   "mimetype": "text/x-python",
   "name": "python",
   "nbconvert_exporter": "python",
   "pygments_lexer": "ipython3",
   "version": "3.5.2"
  }
 },
 "nbformat": 4,
 "nbformat_minor": 0
}
